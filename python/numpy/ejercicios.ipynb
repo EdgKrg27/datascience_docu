{
 "cells": [
  {
   "cell_type": "markdown",
   "id": "5574c597",
   "metadata": {},
   "source": [
    "# Ejercicios de Numpy"
   ]
  },
  {
   "cell_type": "code",
   "execution_count": 2,
   "id": "ef28d96b",
   "metadata": {},
   "outputs": [],
   "source": [
    "import numpy as np"
   ]
  },
  {
   "cell_type": "code",
   "execution_count": 17,
   "id": "2c51f013",
   "metadata": {},
   "outputs": [
    {
     "name": "stdout",
     "output_type": "stream",
     "text": [
      "[0 1 2 3 4 5 6 7 8 9]\n",
      "[0 1 2 3 4 5 6 7 8 9]\n"
     ]
    }
   ],
   "source": [
    "# Creación de arrays: Crea un array unidimensional con los números del 0 al 9\n",
    "arr = np.array([0,1,2,3,4,5,6,7,8,9])\n",
    "print(arr)\n",
    "\n",
    "arr = np.array(range(10))\n",
    "print(arr)"
   ]
  },
  {
   "cell_type": "code",
   "execution_count": 20,
   "id": "11355b87",
   "metadata": {},
   "outputs": [
    {
     "data": {
      "text/plain": [
       "array([[0., 0., 0.],\n",
       "       [0., 0., 0.],\n",
       "       [0., 0., 0.]])"
      ]
     },
     "execution_count": 20,
     "metadata": {},
     "output_type": "execute_result"
    }
   ],
   "source": [
    "# Array de ceros: Crea un array de 3x3 lleno de ceros\n",
    "tam = (3,3)\n",
    "np.zeros(tam)"
   ]
  },
  {
   "cell_type": "code",
   "execution_count": 3,
   "id": "7959c254",
   "metadata": {},
   "outputs": [
    {
     "data": {
      "text/plain": [
       "array([[1., 1., 1., 1.],\n",
       "       [1., 1., 1., 1.]])"
      ]
     },
     "execution_count": 3,
     "metadata": {},
     "output_type": "execute_result"
    }
   ],
   "source": [
    "# Array de unos: Crea un array de 2x4 lleno de unos\n",
    "tam = (2,4)\n",
    "np.ones(tam)"
   ]
  },
  {
   "cell_type": "code",
   "execution_count": null,
   "id": "53e9cae3",
   "metadata": {},
   "outputs": [],
   "source": [
    "# Array con rangos: Crea un array con valores del 10 al 25 con un paso de 2\n"
   ]
  },
  {
   "cell_type": "code",
   "execution_count": 4,
   "id": "c770c402",
   "metadata": {},
   "outputs": [],
   "source": [
    "# Array aleatorio: Crea un array de 5x5 con valores aleatorios entre 0 y 1"
   ]
  },
  {
   "cell_type": "code",
   "execution_count": 5,
   "id": "1c16df88",
   "metadata": {},
   "outputs": [],
   "source": [
    "# Indexación: Dado el array arr = np.array([1,2,3,4,5]), seleccione el tercer elemento"
   ]
  },
  {
   "cell_type": "code",
   "execution_count": 6,
   "id": "9074e408",
   "metadata": {},
   "outputs": [],
   "source": [
    "# Slicing: Dado arr = np.arange(10), selcciona los elementos del índice 3 al 7"
   ]
  },
  {
   "cell_type": "code",
   "execution_count": 7,
   "id": "93144dcd",
   "metadata": {},
   "outputs": [],
   "source": [
    "# Array bidimensional: Crea un array de 2x3 con valores enteros aleatorios entre 5 y 15"
   ]
  },
  {
   "cell_type": "code",
   "execution_count": 8,
   "id": "8bfc525c",
   "metadata": {},
   "outputs": [],
   "source": [
    "# Forma (shape): DAdo un array de 4x6, imprime su forma (shape)"
   ]
  },
  {
   "cell_type": "code",
   "execution_count": 9,
   "id": "a2de1ff0",
   "metadata": {},
   "outputs": [],
   "source": [
    "# Redimensionar: Convierte un array unidimensional de 12 elementos en una matriz de 3x4"
   ]
  },
  {
   "cell_type": "code",
   "execution_count": 10,
   "id": "783b003e",
   "metadata": {},
   "outputs": [],
   "source": [
    "# Operaciones aritméticas: Dados dos arrays a = np.array([1,2,3]) y b = np.array([4,5,6]), calcula a+b, a*b y b-a"
   ]
  },
  {
   "cell_type": "code",
   "execution_count": 11,
   "id": "7516692b",
   "metadata": {},
   "outputs": [],
   "source": [
    "# Funciones universales: Calcula la raíz cuadrada de cada elemento en np.array([4,9,16,25])"
   ]
  },
  {
   "cell_type": "code",
   "execution_count": 12,
   "id": "92d4ab71",
   "metadata": {},
   "outputs": [],
   "source": [
    "# Boolean indexing: Dado arr = np.array([1,2,3,4,5]), crea un array booleano donde los valores mayores que 3 sean True"
   ]
  },
  {
   "cell_type": "code",
   "execution_count": 13,
   "id": "d2bbffe0",
   "metadata": {},
   "outputs": [],
   "source": [
    "# Where: Usa np.where para reemplazar todos los valores impares en un array por -1"
   ]
  },
  {
   "cell_type": "code",
   "execution_count": 14,
   "id": "8d2f5df4",
   "metadata": {},
   "outputs": [],
   "source": [
    "# Copiar arrays: Crea una copia independiente de un array (evitando la referencia en memoria)"
   ]
  }
 ],
 "metadata": {
  "kernelspec": {
   "display_name": "desarrollo",
   "language": "python",
   "name": "python3"
  },
  "language_info": {
   "codemirror_mode": {
    "name": "ipython",
    "version": 3
   },
   "file_extension": ".py",
   "mimetype": "text/x-python",
   "name": "python",
   "nbconvert_exporter": "python",
   "pygments_lexer": "ipython3",
   "version": "3.13.7"
  }
 },
 "nbformat": 4,
 "nbformat_minor": 5
}
