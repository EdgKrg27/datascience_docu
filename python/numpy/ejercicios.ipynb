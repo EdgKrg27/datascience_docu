{
 "cells": [
  {
   "cell_type": "markdown",
   "id": "5574c597",
   "metadata": {},
   "source": [
    "# Ejercicios de Numpy"
   ]
  },
  {
   "cell_type": "code",
   "execution_count": 1,
   "id": "ef28d96b",
   "metadata": {},
   "outputs": [],
   "source": [
    "import numpy as np"
   ]
  },
  {
   "cell_type": "code",
   "execution_count": 17,
   "id": "2c51f013",
   "metadata": {},
   "outputs": [
    {
     "name": "stdout",
     "output_type": "stream",
     "text": [
      "[0 1 2 3 4 5 6 7 8 9]\n",
      "[0 1 2 3 4 5 6 7 8 9]\n"
     ]
    }
   ],
   "source": [
    "# Creación de arrays: Crea un array unidimensional con los números del 0 al 9\n",
    "arr = np.array([0,1,2,3,4,5,6,7,8,9])\n",
    "print(arr)\n",
    "\n",
    "arr = np.array(range(10))\n",
    "print(arr)"
   ]
  },
  {
   "cell_type": "code",
   "execution_count": 20,
   "id": "11355b87",
   "metadata": {},
   "outputs": [
    {
     "data": {
      "text/plain": [
       "array([[0., 0., 0.],\n",
       "       [0., 0., 0.],\n",
       "       [0., 0., 0.]])"
      ]
     },
     "execution_count": 20,
     "metadata": {},
     "output_type": "execute_result"
    }
   ],
   "source": [
    "# Array de ceros: Crea un array de 3x3 lleno de ceros\n",
    "tam = (3,3)\n",
    "np.zeros(tam)"
   ]
  },
  {
   "cell_type": "code",
   "execution_count": 3,
   "id": "7959c254",
   "metadata": {},
   "outputs": [
    {
     "data": {
      "text/plain": [
       "array([[1., 1., 1., 1.],\n",
       "       [1., 1., 1., 1.]])"
      ]
     },
     "execution_count": 3,
     "metadata": {},
     "output_type": "execute_result"
    }
   ],
   "source": [
    "# Array de unos: Crea un array de 2x4 lleno de unos\n",
    "tam = (2,4)\n",
    "np.ones(tam)"
   ]
  },
  {
   "cell_type": "code",
   "execution_count": 2,
   "id": "53e9cae3",
   "metadata": {},
   "outputs": [
    {
     "name": "stdout",
     "output_type": "stream",
     "text": [
      "[10 12 14 16 18 20 22 24]\n"
     ]
    }
   ],
   "source": [
    "# Array con rangos: Crea un array con valores del 10 al 25 con un paso de 2\n",
    "arr = np.arange(10,26,2)\n",
    "print(arr)"
   ]
  },
  {
   "cell_type": "code",
   "execution_count": 4,
   "id": "c770c402",
   "metadata": {},
   "outputs": [
    {
     "name": "stdout",
     "output_type": "stream",
     "text": [
      "[[0.82944082 0.85196224 0.72193337 0.67746958 0.07339329]\n",
      " [0.8440612  0.81587861 0.62620274 0.88655916 0.10240447]\n",
      " [0.8345574  0.1927354  0.51460815 0.41640417 0.45421114]\n",
      " [0.62125225 0.83147226 0.34452587 0.28935444 0.47443422]\n",
      " [0.6231372  0.85212843 0.50221992 0.56774875 0.7966758 ]]\n"
     ]
    }
   ],
   "source": [
    "# Array aleatorio: Crea un array de 5x5 con valores aleatorios entre 0 y 1\n",
    "arr = np.random.rand(5,5)\n",
    "print(arr)"
   ]
  },
  {
   "cell_type": "code",
   "execution_count": 6,
   "id": "1c16df88",
   "metadata": {},
   "outputs": [
    {
     "name": "stdout",
     "output_type": "stream",
     "text": [
      "3\n"
     ]
    }
   ],
   "source": [
    "# Indexación: Dado el array arr = np.array([1,2,3,4,5]), seleccione el tercer elemento\n",
    "arr = np.array([1,2,3,4,5])\n",
    "print(arr[2])"
   ]
  },
  {
   "cell_type": "code",
   "execution_count": 7,
   "id": "9074e408",
   "metadata": {},
   "outputs": [
    {
     "name": "stdout",
     "output_type": "stream",
     "text": [
      "[3 4 5 6]\n"
     ]
    }
   ],
   "source": [
    "# Slicing: Dado arr = np.arange(10), selcciona los elementos del índice 3 al 7\n",
    "arr = np.arange(10)\n",
    "print(arr[3:7])"
   ]
  },
  {
   "cell_type": "code",
   "execution_count": 8,
   "id": "93144dcd",
   "metadata": {},
   "outputs": [
    {
     "name": "stdout",
     "output_type": "stream",
     "text": [
      "[[ 5  6 11]\n",
      " [10  9  5]]\n"
     ]
    }
   ],
   "source": [
    "# Array bidimensional: Crea un array de 2x3 con valores enteros aleatorios entre 5 y 15\n",
    "arr = np.random.randint(5,16, size=(2,3))\n",
    "print(arr)"
   ]
  },
  {
   "cell_type": "code",
   "execution_count": 12,
   "id": "8bfc525c",
   "metadata": {},
   "outputs": [
    {
     "name": "stdout",
     "output_type": "stream",
     "text": [
      "[[0. 0. 0. 0. 0. 0.]\n",
      " [0. 0. 0. 0. 0. 0.]\n",
      " [0. 0. 0. 0. 0. 0.]\n",
      " [0. 0. 0. 0. 0. 0.]]\n",
      "(4, 6)\n"
     ]
    }
   ],
   "source": [
    "# Forma (shape): Dado un array de 4x6, imprime su forma (shape)\n",
    "tam = (4,6)\n",
    "arr = np.zeros(tam)\n",
    "print(arr)\n",
    "print(arr.shape)"
   ]
  },
  {
   "cell_type": "code",
   "execution_count": 13,
   "id": "a2de1ff0",
   "metadata": {},
   "outputs": [
    {
     "name": "stdout",
     "output_type": "stream",
     "text": [
      "[ 1  2  3  4  5  6  7  8  9 10 11 12]\n",
      "[[ 1  2  3  4]\n",
      " [ 5  6  7  8]\n",
      " [ 9 10 11 12]]\n"
     ]
    }
   ],
   "source": [
    "# Redimensionar: Convierte un array unidimensional de 12 elementos en una matriz de 3x4\n",
    "arr = np.arange(1,13)\n",
    "print(arr)\n",
    "arr = arr.reshape(3,4)\n",
    "print(arr)"
   ]
  },
  {
   "cell_type": "code",
   "execution_count": 14,
   "id": "783b003e",
   "metadata": {},
   "outputs": [
    {
     "name": "stdout",
     "output_type": "stream",
     "text": [
      "[5 7 9]\n",
      "[ 4 10 18]\n",
      "[3 3 3]\n"
     ]
    }
   ],
   "source": [
    "# Operaciones aritméticas: Dados dos arrays a = np.array([1,2,3]) y b = np.array([4,5,6]), calcula a+b, a*b y b-a\n",
    "a = np.array([1,2,3])\n",
    "b = np.array([4,5,6])\n",
    "print(a+b)\n",
    "print(a*b)\n",
    "print(b-a)"
   ]
  },
  {
   "cell_type": "code",
   "execution_count": 15,
   "id": "7516692b",
   "metadata": {},
   "outputs": [
    {
     "name": "stdout",
     "output_type": "stream",
     "text": [
      "[2. 3. 4. 5.]\n"
     ]
    }
   ],
   "source": [
    "# Funciones universales: Calcula la raíz cuadrada de cada elemento en np.array([4,9,16,25])\n",
    "arr = np.array([4,9,16,25])\n",
    "print(np.sqrt(arr))"
   ]
  },
  {
   "cell_type": "code",
   "execution_count": 16,
   "id": "92d4ab71",
   "metadata": {},
   "outputs": [
    {
     "name": "stdout",
     "output_type": "stream",
     "text": [
      "[False False False  True  True]\n"
     ]
    }
   ],
   "source": [
    "# Boolean indexing: Dado arr = np.array([1,2,3,4,5]), crea un array booleano donde los valores mayores que 3 sean True\n",
    "arr = np.array([1,2,3,4,5])\n",
    "res = arr > 3\n",
    "print(res)"
   ]
  },
  {
   "cell_type": "code",
   "execution_count": 17,
   "id": "d2bbffe0",
   "metadata": {},
   "outputs": [
    {
     "name": "stdout",
     "output_type": "stream",
     "text": [
      "[1 2 3 4 5 6 7 8 9]\n",
      "[-1  2 -1  4 -1  6 -1  8 -1]\n"
     ]
    }
   ],
   "source": [
    "# Where: Usa np.where para reemplazar todos los valores impares en un array por -1\n",
    "arr = np.array([1,2,3,4,5,6,7,8,9])\n",
    "arrn = np.where(arr % 2 != 0, -1, arr)\n",
    "print(arr)\n",
    "print(arrn)"
   ]
  },
  {
   "cell_type": "code",
   "execution_count": 18,
   "id": "8d2f5df4",
   "metadata": {},
   "outputs": [
    {
     "name": "stdout",
     "output_type": "stream",
     "text": [
      "[1 2 3 4 5]\n",
      "[99  2  3  4  5]\n"
     ]
    }
   ],
   "source": [
    "# Copiar arrays: Crea una copia independiente de un array (evitando la referencia en memoria)\n",
    "arr = np.array([1,2,3,4,5])\n",
    "copia = np.copy(arr)\n",
    "copia[0] = 99\n",
    "print(arr)\n",
    "print(copia)"
   ]
  },
  {
   "cell_type": "code",
   "execution_count": null,
   "id": "d7a7688e",
   "metadata": {},
   "outputs": [],
   "source": []
  }
 ],
 "metadata": {
  "kernelspec": {
   "display_name": "desarrollo",
   "language": "python",
   "name": "python3"
  },
  "language_info": {
   "codemirror_mode": {
    "name": "ipython",
    "version": 3
   },
   "file_extension": ".py",
   "mimetype": "text/x-python",
   "name": "python",
   "nbconvert_exporter": "python",
   "pygments_lexer": "ipython3",
   "version": "3.13.7"
  }
 },
 "nbformat": 4,
 "nbformat_minor": 5
}
